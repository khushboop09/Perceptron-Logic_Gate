{
 "cells": [
  {
   "cell_type": "code",
   "execution_count": 27,
   "metadata": {
    "collapsed": false
   },
   "outputs": [
    {
     "name": "stdout",
     "output_type": "stream",
     "text": [
      "AND Gate: \n",
      "[0, 0]\n",
      "0\n",
      "[0, 1]\n",
      "0\n",
      "[1, 0]\n",
      "0\n",
      "[1, 1]\n",
      "1\n",
      "\n",
      "OR Gate: \n",
      "[0, 0]\n",
      "0\n",
      "[0, 1]\n",
      "1\n",
      "[1, 0]\n",
      "1\n",
      "[1, 1]\n",
      "1\n"
     ]
    }
   ],
   "source": [
    "#Activation or step function\n",
    "def activate(sums):\n",
    "    if sums > 0:\n",
    "        return 1\n",
    "    return 0\n",
    "\n",
    "#Returns 1 if perceptron fires else 0\n",
    "def perceptron(input_pair,bias):\n",
    "    print(input_pair)\n",
    "    sums = (input_pair[0]*weights[0])+(input_pair[1]*weights[1])+bias\n",
    "    return activate(sums)    \n",
    "\n",
    "weights = [2,2]\n",
    "bias_OR = -1\n",
    "bias_AND = -3\n",
    "inputs = [0,0,0,1,1,0,1,1]\n",
    "input_pair = [[],[]]\n",
    "\n",
    "print(\"AND Gate: \")\n",
    "\n",
    "for index in range(len(inputs)):\n",
    "    if index % 2 == 0:\n",
    "        input_pair[0] = inputs[index]\n",
    "        input_pair[1] = inputs[index+1]\n",
    "        output = perceptron(input_pair,bias_AND)\n",
    "        print(output)\n",
    "        \n",
    "print(\"\\nOR Gate: \")\n",
    "\n",
    "for index in range(len(inputs)):\n",
    "    if index % 2 == 0:\n",
    "        input_pair[0] = inputs[index]\n",
    "        input_pair[1] = inputs[index+1]\n",
    "        output = perceptron(input_pair,bias_OR)\n",
    "        print(output)\n",
    "    "
   ]
  },
  {
   "cell_type": "code",
   "execution_count": null,
   "metadata": {
    "collapsed": true
   },
   "outputs": [],
   "source": []
  }
 ],
 "metadata": {
  "anaconda-cloud": {},
  "kernelspec": {
   "display_name": "Python [conda root]",
   "language": "python",
   "name": "conda-root-py"
  },
  "language_info": {
   "codemirror_mode": {
    "name": "ipython",
    "version": 2
   },
   "file_extension": ".py",
   "mimetype": "text/x-python",
   "name": "python",
   "nbconvert_exporter": "python",
   "pygments_lexer": "ipython2",
   "version": "2.7.12"
  }
 },
 "nbformat": 4,
 "nbformat_minor": 1
}
